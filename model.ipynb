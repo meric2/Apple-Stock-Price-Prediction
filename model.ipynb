{
 "cells": [
  {
   "cell_type": "markdown",
   "id": "76358acd",
   "metadata": {},
   "source": [
    "# YAP471 Project - Zeynep Meriç Aşık - 201410026"
   ]
  },
  {
   "cell_type": "code",
   "execution_count": 2,
   "id": "9e0cee72",
   "metadata": {},
   "outputs": [],
   "source": [
    "!pip install -r requirements.txt"
   ]
  },
  {
   "cell_type": "code",
   "execution_count": 3,
   "id": "89c36f23",
   "metadata": {},
   "outputs": [],
   "source": [
    "import pandas as pd\n",
    "import numpy as np\n",
    "import matplotlib.pyplot as plt\n",
    "%matplotlib inline\n",
    "import sklearn\n",
    "from keras.models import Sequential\n",
    "from keras.layers import Dense, LSTM\n",
    "import datetime"
   ]
  },
  {
   "cell_type": "code",
   "execution_count": 4,
   "id": "ff84e5a5",
   "metadata": {},
   "outputs": [],
   "source": [
    "np.random.seed(12345)"
   ]
  },
  {
   "cell_type": "code",
   "execution_count": 5,
   "id": "28741d64",
   "metadata": {},
   "outputs": [
    {
     "data": {
      "text/html": [
       "<div>\n",
       "<style scoped>\n",
       "    .dataframe tbody tr th:only-of-type {\n",
       "        vertical-align: middle;\n",
       "    }\n",
       "\n",
       "    .dataframe tbody tr th {\n",
       "        vertical-align: top;\n",
       "    }\n",
       "\n",
       "    .dataframe thead th {\n",
       "        text-align: right;\n",
       "    }\n",
       "</style>\n",
       "<table border=\"1\" class=\"dataframe\">\n",
       "  <thead>\n",
       "    <tr style=\"text-align: right;\">\n",
       "      <th></th>\n",
       "      <th>Date</th>\n",
       "      <th>Open</th>\n",
       "      <th>High</th>\n",
       "      <th>Low</th>\n",
       "      <th>Close</th>\n",
       "      <th>Adj Close</th>\n",
       "      <th>Volume</th>\n",
       "    </tr>\n",
       "  </thead>\n",
       "  <tbody>\n",
       "    <tr>\n",
       "      <th>0</th>\n",
       "      <td>2005-01-03</td>\n",
       "      <td>1.156786</td>\n",
       "      <td>1.162679</td>\n",
       "      <td>1.117857</td>\n",
       "      <td>1.130179</td>\n",
       "      <td>0.959292</td>\n",
       "      <td>691992000</td>\n",
       "    </tr>\n",
       "    <tr>\n",
       "      <th>1</th>\n",
       "      <td>2005-01-04</td>\n",
       "      <td>1.139107</td>\n",
       "      <td>1.169107</td>\n",
       "      <td>1.124464</td>\n",
       "      <td>1.141786</td>\n",
       "      <td>0.969144</td>\n",
       "      <td>1096810400</td>\n",
       "    </tr>\n",
       "    <tr>\n",
       "      <th>2</th>\n",
       "      <td>2005-01-05</td>\n",
       "      <td>1.151071</td>\n",
       "      <td>1.165179</td>\n",
       "      <td>1.143750</td>\n",
       "      <td>1.151786</td>\n",
       "      <td>0.977632</td>\n",
       "      <td>680433600</td>\n",
       "    </tr>\n",
       "    <tr>\n",
       "      <th>3</th>\n",
       "      <td>2005-01-06</td>\n",
       "      <td>1.154821</td>\n",
       "      <td>1.159107</td>\n",
       "      <td>1.130893</td>\n",
       "      <td>1.152679</td>\n",
       "      <td>0.978390</td>\n",
       "      <td>705555200</td>\n",
       "    </tr>\n",
       "    <tr>\n",
       "      <th>4</th>\n",
       "      <td>2005-01-07</td>\n",
       "      <td>1.160714</td>\n",
       "      <td>1.243393</td>\n",
       "      <td>1.156250</td>\n",
       "      <td>1.236607</td>\n",
       "      <td>1.049628</td>\n",
       "      <td>2227450400</td>\n",
       "    </tr>\n",
       "    <tr>\n",
       "      <th>...</th>\n",
       "      <td>...</td>\n",
       "      <td>...</td>\n",
       "      <td>...</td>\n",
       "      <td>...</td>\n",
       "      <td>...</td>\n",
       "      <td>...</td>\n",
       "      <td>...</td>\n",
       "    </tr>\n",
       "    <tr>\n",
       "      <th>4684</th>\n",
       "      <td>2023-08-14</td>\n",
       "      <td>177.970001</td>\n",
       "      <td>179.690002</td>\n",
       "      <td>177.309998</td>\n",
       "      <td>179.460007</td>\n",
       "      <td>179.460007</td>\n",
       "      <td>43675600</td>\n",
       "    </tr>\n",
       "    <tr>\n",
       "      <th>4685</th>\n",
       "      <td>2023-08-15</td>\n",
       "      <td>178.880005</td>\n",
       "      <td>179.479996</td>\n",
       "      <td>177.050003</td>\n",
       "      <td>177.449997</td>\n",
       "      <td>177.449997</td>\n",
       "      <td>43622600</td>\n",
       "    </tr>\n",
       "    <tr>\n",
       "      <th>4686</th>\n",
       "      <td>2023-08-16</td>\n",
       "      <td>177.130005</td>\n",
       "      <td>178.539993</td>\n",
       "      <td>176.500000</td>\n",
       "      <td>176.570007</td>\n",
       "      <td>176.570007</td>\n",
       "      <td>46964900</td>\n",
       "    </tr>\n",
       "    <tr>\n",
       "      <th>4687</th>\n",
       "      <td>2023-08-17</td>\n",
       "      <td>177.139999</td>\n",
       "      <td>177.509995</td>\n",
       "      <td>173.479996</td>\n",
       "      <td>174.000000</td>\n",
       "      <td>174.000000</td>\n",
       "      <td>66062900</td>\n",
       "    </tr>\n",
       "    <tr>\n",
       "      <th>4688</th>\n",
       "      <td>2023-08-18</td>\n",
       "      <td>172.300003</td>\n",
       "      <td>175.100006</td>\n",
       "      <td>171.960007</td>\n",
       "      <td>174.490005</td>\n",
       "      <td>174.490005</td>\n",
       "      <td>61114200</td>\n",
       "    </tr>\n",
       "  </tbody>\n",
       "</table>\n",
       "<p>4689 rows × 7 columns</p>\n",
       "</div>"
      ],
      "text/plain": [
       "            Date        Open        High         Low       Close   Adj Close  \\\n",
       "0     2005-01-03    1.156786    1.162679    1.117857    1.130179    0.959292   \n",
       "1     2005-01-04    1.139107    1.169107    1.124464    1.141786    0.969144   \n",
       "2     2005-01-05    1.151071    1.165179    1.143750    1.151786    0.977632   \n",
       "3     2005-01-06    1.154821    1.159107    1.130893    1.152679    0.978390   \n",
       "4     2005-01-07    1.160714    1.243393    1.156250    1.236607    1.049628   \n",
       "...          ...         ...         ...         ...         ...         ...   \n",
       "4684  2023-08-14  177.970001  179.690002  177.309998  179.460007  179.460007   \n",
       "4685  2023-08-15  178.880005  179.479996  177.050003  177.449997  177.449997   \n",
       "4686  2023-08-16  177.130005  178.539993  176.500000  176.570007  176.570007   \n",
       "4687  2023-08-17  177.139999  177.509995  173.479996  174.000000  174.000000   \n",
       "4688  2023-08-18  172.300003  175.100006  171.960007  174.490005  174.490005   \n",
       "\n",
       "          Volume  \n",
       "0      691992000  \n",
       "1     1096810400  \n",
       "2      680433600  \n",
       "3      705555200  \n",
       "4     2227450400  \n",
       "...          ...  \n",
       "4684    43675600  \n",
       "4685    43622600  \n",
       "4686    46964900  \n",
       "4687    66062900  \n",
       "4688    61114200  \n",
       "\n",
       "[4689 rows x 7 columns]"
      ]
     },
     "execution_count": 5,
     "metadata": {},
     "output_type": "execute_result"
    }
   ],
   "source": [
    "dataset = pd.read_csv(\"AAPL.csv\")\n",
    "dataset"
   ]
  },
  {
   "cell_type": "markdown",
   "id": "ff5df1fe",
   "metadata": {},
   "source": [
    "## Data Visualization"
   ]
  },
  {
   "cell_type": "code",
   "execution_count": 6,
   "id": "4823a6a3",
   "metadata": {},
   "outputs": [
    {
     "name": "stdout",
     "output_type": "stream",
     "text": [
      "<class 'pandas.core.frame.DataFrame'>\n",
      "RangeIndex: 4689 entries, 0 to 4688\n",
      "Data columns (total 7 columns):\n",
      " #   Column     Non-Null Count  Dtype  \n",
      "---  ------     --------------  -----  \n",
      " 0   Date       4689 non-null   object \n",
      " 1   Open       4689 non-null   float64\n",
      " 2   High       4689 non-null   float64\n",
      " 3   Low        4689 non-null   float64\n",
      " 4   Close      4689 non-null   float64\n",
      " 5   Adj Close  4689 non-null   float64\n",
      " 6   Volume     4689 non-null   int64  \n",
      "dtypes: float64(5), int64(1), object(1)\n",
      "memory usage: 256.6+ KB\n"
     ]
    }
   ],
   "source": [
    "dataset.info()"
   ]
  },
  {
   "cell_type": "code",
   "execution_count": 7,
   "id": "c1daf9b0",
   "metadata": {},
   "outputs": [
    {
     "data": {
      "text/plain": [
       "Date         0\n",
       "Open         0\n",
       "High         0\n",
       "Low          0\n",
       "Close        0\n",
       "Adj Close    0\n",
       "Volume       0\n",
       "dtype: int64"
      ]
     },
     "execution_count": 7,
     "metadata": {},
     "output_type": "execute_result"
    }
   ],
   "source": [
    "dataset.isnull().sum()"
   ]
  },
  {
   "cell_type": "code",
   "execution_count": 8,
   "id": "9cd90b4b",
   "metadata": {},
   "outputs": [
    {
     "data": {
      "text/html": [
       "<div>\n",
       "<style scoped>\n",
       "    .dataframe tbody tr th:only-of-type {\n",
       "        vertical-align: middle;\n",
       "    }\n",
       "\n",
       "    .dataframe tbody tr th {\n",
       "        vertical-align: top;\n",
       "    }\n",
       "\n",
       "    .dataframe thead th {\n",
       "        text-align: right;\n",
       "    }\n",
       "</style>\n",
       "<table border=\"1\" class=\"dataframe\">\n",
       "  <thead>\n",
       "    <tr style=\"text-align: right;\">\n",
       "      <th></th>\n",
       "      <th>Open</th>\n",
       "      <th>High</th>\n",
       "      <th>Low</th>\n",
       "      <th>Close</th>\n",
       "      <th>Adj Close</th>\n",
       "      <th>Volume</th>\n",
       "    </tr>\n",
       "  </thead>\n",
       "  <tbody>\n",
       "    <tr>\n",
       "      <th>count</th>\n",
       "      <td>4689.000000</td>\n",
       "      <td>4689.000000</td>\n",
       "      <td>4689.000000</td>\n",
       "      <td>4689.000000</td>\n",
       "      <td>4689.000000</td>\n",
       "      <td>4.689000e+03</td>\n",
       "    </tr>\n",
       "    <tr>\n",
       "      <th>mean</th>\n",
       "      <td>42.428267</td>\n",
       "      <td>42.898492</td>\n",
       "      <td>41.974049</td>\n",
       "      <td>42.454191</td>\n",
       "      <td>40.847949</td>\n",
       "      <td>4.100052e+08</td>\n",
       "    </tr>\n",
       "    <tr>\n",
       "      <th>std</th>\n",
       "      <td>50.481736</td>\n",
       "      <td>51.073497</td>\n",
       "      <td>49.933151</td>\n",
       "      <td>50.526211</td>\n",
       "      <td>50.538148</td>\n",
       "      <td>3.995805e+08</td>\n",
       "    </tr>\n",
       "    <tr>\n",
       "      <th>min</th>\n",
       "      <td>1.139107</td>\n",
       "      <td>1.159107</td>\n",
       "      <td>1.117857</td>\n",
       "      <td>1.130179</td>\n",
       "      <td>0.959292</td>\n",
       "      <td>3.145820e+07</td>\n",
       "    </tr>\n",
       "    <tr>\n",
       "      <th>25%</th>\n",
       "      <td>6.705000</td>\n",
       "      <td>6.780000</td>\n",
       "      <td>6.605357</td>\n",
       "      <td>6.686071</td>\n",
       "      <td>5.675114</td>\n",
       "      <td>1.124640e+08</td>\n",
       "    </tr>\n",
       "    <tr>\n",
       "      <th>50%</th>\n",
       "      <td>23.067499</td>\n",
       "      <td>23.149643</td>\n",
       "      <td>22.814644</td>\n",
       "      <td>23.020000</td>\n",
       "      <td>20.176666</td>\n",
       "      <td>2.687216e+08</td>\n",
       "    </tr>\n",
       "    <tr>\n",
       "      <th>75%</th>\n",
       "      <td>47.907501</td>\n",
       "      <td>48.220001</td>\n",
       "      <td>47.552502</td>\n",
       "      <td>47.862499</td>\n",
       "      <td>45.989861</td>\n",
       "      <td>5.923456e+08</td>\n",
       "    </tr>\n",
       "    <tr>\n",
       "      <th>max</th>\n",
       "      <td>196.240005</td>\n",
       "      <td>198.229996</td>\n",
       "      <td>195.279999</td>\n",
       "      <td>196.449997</td>\n",
       "      <td>196.185074</td>\n",
       "      <td>3.372970e+09</td>\n",
       "    </tr>\n",
       "  </tbody>\n",
       "</table>\n",
       "</div>"
      ],
      "text/plain": [
       "              Open         High          Low        Close    Adj Close  \\\n",
       "count  4689.000000  4689.000000  4689.000000  4689.000000  4689.000000   \n",
       "mean     42.428267    42.898492    41.974049    42.454191    40.847949   \n",
       "std      50.481736    51.073497    49.933151    50.526211    50.538148   \n",
       "min       1.139107     1.159107     1.117857     1.130179     0.959292   \n",
       "25%       6.705000     6.780000     6.605357     6.686071     5.675114   \n",
       "50%      23.067499    23.149643    22.814644    23.020000    20.176666   \n",
       "75%      47.907501    48.220001    47.552502    47.862499    45.989861   \n",
       "max     196.240005   198.229996   195.279999   196.449997   196.185074   \n",
       "\n",
       "             Volume  \n",
       "count  4.689000e+03  \n",
       "mean   4.100052e+08  \n",
       "std    3.995805e+08  \n",
       "min    3.145820e+07  \n",
       "25%    1.124640e+08  \n",
       "50%    2.687216e+08  \n",
       "75%    5.923456e+08  \n",
       "max    3.372970e+09  "
      ]
     },
     "execution_count": 8,
     "metadata": {},
     "output_type": "execute_result"
    }
   ],
   "source": [
    "dataset.describe()"
   ]
  },
  {
   "cell_type": "code",
   "execution_count": 9,
   "id": "3a4b2b0e",
   "metadata": {},
   "outputs": [
    {
     "data": {
      "text/plain": [
       "(array([5., 0., 0., 0., 0., 0., 0., 0., 0., 0., 0., 0., 0., 0., 0., 0., 0.,\n",
       "        0., 0., 1.]),\n",
       " array([4.99331509e+01, 1.99790719e+07, 3.99580938e+07, 5.99371157e+07,\n",
       "        7.99161377e+07, 9.98951596e+07, 1.19874182e+08, 1.39853203e+08,\n",
       "        1.59832225e+08, 1.79811247e+08, 1.99790269e+08, 2.19769291e+08,\n",
       "        2.39748313e+08, 2.59727335e+08, 2.79706357e+08, 2.99685379e+08,\n",
       "        3.19664401e+08, 3.39643423e+08, 3.59622445e+08, 3.79601467e+08,\n",
       "        3.99580489e+08]),\n",
       " <BarContainer object of 20 artists>)"
      ]
     },
     "execution_count": 9,
     "metadata": {},
     "output_type": "execute_result"
    },
    {
     "data": {
      "image/png": "[encoded data removed]",
      "text/plain": [
       "<Figure size 432x288 with 1 Axes>"
      ]
     },
     "metadata": {
      "needs_background": "light"
     },
     "output_type": "display_data"
    }
   ],
   "source": [
    "std = pd.Series.sort_values(dataset.describe().loc[\"std\"])\n",
    "plt.hist(std , color=\"#7FFFD4\" , ec=\"#79CDCD\" , lw=3 , bins=20)"
   ]
  },
  {
   "cell_type": "code",
   "execution_count": 10,
   "id": "fb2d1b3d",
   "metadata": {},
   "outputs": [
    {
     "data": {
      "text/plain": [
       "(array([1463.,  758.,  700.,  330.,  314.,  167.,   62.,   63.,   39.,\n",
       "          25.,    9.,   58.,  100.,  105.,  131.,  134.,   83.,   84.,\n",
       "          37.,   27.]),\n",
       " array([  1.117857 ,  10.8259641,  20.5340712,  30.2421783,  39.9502854,\n",
       "         49.6583925,  59.3664996,  69.0746067,  78.7827138,  88.4908209,\n",
       "         98.198928 , 107.9070351, 117.6151422, 127.3232493, 137.0313564,\n",
       "        146.7394635, 156.4475706, 166.1556777, 175.8637848, 185.5718919,\n",
       "        195.279999 ]),\n",
       " <BarContainer object of 20 artists>)"
      ]
     },
     "execution_count": 10,
     "metadata": {},
     "output_type": "execute_result"
    },
    {
     "data": {
      "image/png": "[encoded data removed]",
      "text/plain": [
       "<Figure size 432x288 with 1 Axes>"
      ]
     },
     "metadata": {
      "needs_background": "light"
     },
     "output_type": "display_data"
    }
   ],
   "source": [
    "plt.hist(dataset[\"Volume\"] , color=\"#BDFCC9\" , ec=\"#6B8E23\" , lw=3 , bins=20)\n",
    "plt.hist(dataset[\"Low\"] , color=\"#FFC0CB\" , ec=\"#CD919E\" , lw=3 , bins=20)"
   ]
  },
  {
   "cell_type": "code",
   "execution_count": 11,
   "id": "25f5d6a1",
   "metadata": {},
   "outputs": [
    {
     "data": {
      "text/plain": [
       "(4689, 7)"
      ]
     },
     "execution_count": 11,
     "metadata": {},
     "output_type": "execute_result"
    }
   ],
   "source": [
    "dataset.shape"
   ]
  },
  {
   "cell_type": "code",
   "execution_count": 12,
   "id": "d2bf7ba3",
   "metadata": {},
   "outputs": [
    {
     "data": {
      "text/html": [
       "<div>\n",
       "<style scoped>\n",
       "    .dataframe tbody tr th:only-of-type {\n",
       "        vertical-align: middle;\n",
       "    }\n",
       "\n",
       "    .dataframe tbody tr th {\n",
       "        vertical-align: top;\n",
       "    }\n",
       "\n",
       "    .dataframe thead th {\n",
       "        text-align: right;\n",
       "    }\n",
       "</style>\n",
       "<table border=\"1\" class=\"dataframe\">\n",
       "  <thead>\n",
       "    <tr style=\"text-align: right;\">\n",
       "      <th></th>\n",
       "      <th>Date</th>\n",
       "      <th>Open</th>\n",
       "      <th>High</th>\n",
       "      <th>Low</th>\n",
       "      <th>Close</th>\n",
       "      <th>Adj Close</th>\n",
       "      <th>Volume</th>\n",
       "    </tr>\n",
       "  </thead>\n",
       "  <tbody>\n",
       "    <tr>\n",
       "      <th>0</th>\n",
       "      <td>2005-01-03</td>\n",
       "      <td>1.156786</td>\n",
       "      <td>1.162679</td>\n",
       "      <td>1.117857</td>\n",
       "      <td>1.130179</td>\n",
       "      <td>0.959292</td>\n",
       "      <td>691992000</td>\n",
       "    </tr>\n",
       "    <tr>\n",
       "      <th>1</th>\n",
       "      <td>2005-01-04</td>\n",
       "      <td>1.139107</td>\n",
       "      <td>1.169107</td>\n",
       "      <td>1.124464</td>\n",
       "      <td>1.141786</td>\n",
       "      <td>0.969144</td>\n",
       "      <td>1096810400</td>\n",
       "    </tr>\n",
       "    <tr>\n",
       "      <th>2</th>\n",
       "      <td>2005-01-05</td>\n",
       "      <td>1.151071</td>\n",
       "      <td>1.165179</td>\n",
       "      <td>1.143750</td>\n",
       "      <td>1.151786</td>\n",
       "      <td>0.977632</td>\n",
       "      <td>680433600</td>\n",
       "    </tr>\n",
       "    <tr>\n",
       "      <th>3</th>\n",
       "      <td>2005-01-06</td>\n",
       "      <td>1.154821</td>\n",
       "      <td>1.159107</td>\n",
       "      <td>1.130893</td>\n",
       "      <td>1.152679</td>\n",
       "      <td>0.978390</td>\n",
       "      <td>705555200</td>\n",
       "    </tr>\n",
       "    <tr>\n",
       "      <th>4</th>\n",
       "      <td>2005-01-07</td>\n",
       "      <td>1.160714</td>\n",
       "      <td>1.243393</td>\n",
       "      <td>1.156250</td>\n",
       "      <td>1.236607</td>\n",
       "      <td>1.049628</td>\n",
       "      <td>2227450400</td>\n",
       "    </tr>\n",
       "    <tr>\n",
       "      <th>...</th>\n",
       "      <td>...</td>\n",
       "      <td>...</td>\n",
       "      <td>...</td>\n",
       "      <td>...</td>\n",
       "      <td>...</td>\n",
       "      <td>...</td>\n",
       "      <td>...</td>\n",
       "    </tr>\n",
       "    <tr>\n",
       "      <th>4684</th>\n",
       "      <td>2023-08-14</td>\n",
       "      <td>177.970001</td>\n",
       "      <td>179.690002</td>\n",
       "      <td>177.309998</td>\n",
       "      <td>179.460007</td>\n",
       "      <td>179.460007</td>\n",
       "      <td>43675600</td>\n",
       "    </tr>\n",
       "    <tr>\n",
       "      <th>4685</th>\n",
       "      <td>2023-08-15</td>\n",
       "      <td>178.880005</td>\n",
       "      <td>179.479996</td>\n",
       "      <td>177.050003</td>\n",
       "      <td>177.449997</td>\n",
       "      <td>177.449997</td>\n",
       "      <td>43622600</td>\n",
       "    </tr>\n",
       "    <tr>\n",
       "      <th>4686</th>\n",
       "      <td>2023-08-16</td>\n",
       "      <td>177.130005</td>\n",
       "      <td>178.539993</td>\n",
       "      <td>176.500000</td>\n",
       "      <td>176.570007</td>\n",
       "      <td>176.570007</td>\n",
       "      <td>46964900</td>\n",
       "    </tr>\n",
       "    <tr>\n",
       "      <th>4687</th>\n",
       "      <td>2023-08-17</td>\n",
       "      <td>177.139999</td>\n",
       "      <td>177.509995</td>\n",
       "      <td>173.479996</td>\n",
       "      <td>174.000000</td>\n",
       "      <td>174.000000</td>\n",
       "      <td>66062900</td>\n",
       "    </tr>\n",
       "    <tr>\n",
       "      <th>4688</th>\n",
       "      <td>2023-08-18</td>\n",
       "      <td>172.300003</td>\n",
       "      <td>175.100006</td>\n",
       "      <td>171.960007</td>\n",
       "      <td>174.490005</td>\n",
       "      <td>174.490005</td>\n",
       "      <td>61114200</td>\n",
       "    </tr>\n",
       "  </tbody>\n",
       "</table>\n",
       "<p>4689 rows × 7 columns</p>\n",
       "</div>"
      ],
      "text/plain": [
       "            Date        Open        High         Low       Close   Adj Close  \\\n",
       "0     2005-01-03    1.156786    1.162679    1.117857    1.130179    0.959292   \n",
       "1     2005-01-04    1.139107    1.169107    1.124464    1.141786    0.969144   \n",
       "2     2005-01-05    1.151071    1.165179    1.143750    1.151786    0.977632   \n",
       "3     2005-01-06    1.154821    1.159107    1.130893    1.152679    0.978390   \n",
       "4     2005-01-07    1.160714    1.243393    1.156250    1.236607    1.049628   \n",
       "...          ...         ...         ...         ...         ...         ...   \n",
       "4684  2023-08-14  177.970001  179.690002  177.309998  179.460007  179.460007   \n",
       "4685  2023-08-15  178.880005  179.479996  177.050003  177.449997  177.449997   \n",
       "4686  2023-08-16  177.130005  178.539993  176.500000  176.570007  176.570007   \n",
       "4687  2023-08-17  177.139999  177.509995  173.479996  174.000000  174.000000   \n",
       "4688  2023-08-18  172.300003  175.100006  171.960007  174.490005  174.490005   \n",
       "\n",
       "          Volume  \n",
       "0      691992000  \n",
       "1     1096810400  \n",
       "2      680433600  \n",
       "3      705555200  \n",
       "4     2227450400  \n",
       "...          ...  \n",
       "4684    43675600  \n",
       "4685    43622600  \n",
       "4686    46964900  \n",
       "4687    66062900  \n",
       "4688    61114200  \n",
       "\n",
       "[4689 rows x 7 columns]"
      ]
     },
     "execution_count": 12,
     "metadata": {},
     "output_type": "execute_result"
    }
   ],
   "source": [
    "dataset"
   ]
  },
  {
   "cell_type": "code",
   "execution_count": 13,
   "id": "ed058122",
   "metadata": {},
   "outputs": [
    {
     "data": {
      "text/html": [
       "<div>\n",
       "<style scoped>\n",
       "    .dataframe tbody tr th:only-of-type {\n",
       "        vertical-align: middle;\n",
       "    }\n",
       "\n",
       "    .dataframe tbody tr th {\n",
       "        vertical-align: top;\n",
       "    }\n",
       "\n",
       "    .dataframe thead th {\n",
       "        text-align: right;\n",
       "    }\n",
       "</style>\n",
       "<table border=\"1\" class=\"dataframe\">\n",
       "  <thead>\n",
       "    <tr style=\"text-align: right;\">\n",
       "      <th></th>\n",
       "      <th>Date</th>\n",
       "      <th>Adj Close</th>\n",
       "    </tr>\n",
       "  </thead>\n",
       "  <tbody>\n",
       "    <tr>\n",
       "      <th>0</th>\n",
       "      <td>2005-01-03</td>\n",
       "      <td>0.959292</td>\n",
       "    </tr>\n",
       "    <tr>\n",
       "      <th>1</th>\n",
       "      <td>2005-01-04</td>\n",
       "      <td>0.969144</td>\n",
       "    </tr>\n",
       "    <tr>\n",
       "      <th>2</th>\n",
       "      <td>2005-01-05</td>\n",
       "      <td>0.977632</td>\n",
       "    </tr>\n",
       "    <tr>\n",
       "      <th>3</th>\n",
       "      <td>2005-01-06</td>\n",
       "      <td>0.978390</td>\n",
       "    </tr>\n",
       "    <tr>\n",
       "      <th>4</th>\n",
       "      <td>2005-01-07</td>\n",
       "      <td>1.049628</td>\n",
       "    </tr>\n",
       "    <tr>\n",
       "      <th>...</th>\n",
       "      <td>...</td>\n",
       "      <td>...</td>\n",
       "    </tr>\n",
       "    <tr>\n",
       "      <th>4684</th>\n",
       "      <td>2023-08-14</td>\n",
       "      <td>179.460007</td>\n",
       "    </tr>\n",
       "    <tr>\n",
       "      <th>4685</th>\n",
       "      <td>2023-08-15</td>\n",
       "      <td>177.449997</td>\n",
       "    </tr>\n",
       "    <tr>\n",
       "      <th>4686</th>\n",
       "      <td>2023-08-16</td>\n",
       "      <td>176.570007</td>\n",
       "    </tr>\n",
       "    <tr>\n",
       "      <th>4687</th>\n",
       "      <td>2023-08-17</td>\n",
       "      <td>174.000000</td>\n",
       "    </tr>\n",
       "    <tr>\n",
       "      <th>4688</th>\n",
       "      <td>2023-08-18</td>\n",
       "      <td>174.490005</td>\n",
       "    </tr>\n",
       "  </tbody>\n",
       "</table>\n",
       "<p>4689 rows × 2 columns</p>\n",
       "</div>"
      ],
      "text/plain": [
       "            Date   Adj Close\n",
       "0     2005-01-03    0.959292\n",
       "1     2005-01-04    0.969144\n",
       "2     2005-01-05    0.977632\n",
       "3     2005-01-06    0.978390\n",
       "4     2005-01-07    1.049628\n",
       "...          ...         ...\n",
       "4684  2023-08-14  179.460007\n",
       "4685  2023-08-15  177.449997\n",
       "4686  2023-08-16  176.570007\n",
       "4687  2023-08-17  174.000000\n",
       "4688  2023-08-18  174.490005\n",
       "\n",
       "[4689 rows x 2 columns]"
      ]
     },
     "execution_count": 13,
     "metadata": {},
     "output_type": "execute_result"
    }
   ],
   "source": [
    "dataset = dataset[[\"Date\",\"Adj Close\"]]\n",
    "dataset"
   ]
  },
  {
   "cell_type": "code",
   "execution_count": 14,
   "id": "87929009",
   "metadata": {},
   "outputs": [
    {
     "name": "stderr",
     "output_type": "stream",
     "text": [
      "C:\\Users\\Asus\\AppData\\Local\\Temp\\ipykernel_19440\\3893542193.py:8: SettingWithCopyWarning: \n",
      "A value is trying to be set on a copy of a slice from a DataFrame.\n",
      "Try using .loc[row_indexer,col_indexer] = value instead\n",
      "\n",
      "See the caveats in the documentation: https://pandas.pydata.org/pandas-docs/stable/user_guide/indexing.html#returning-a-view-versus-a-copy\n",
      "  dataset[\"Date\"] = dataset[\"Date\"].apply(str_to_datetime)\n"
     ]
    },
    {
     "data": {
      "text/plain": [
       "0      2005-01-03\n",
       "1      2005-01-04\n",
       "2      2005-01-05\n",
       "3      2005-01-06\n",
       "4      2005-01-07\n",
       "          ...    \n",
       "4684   2023-08-14\n",
       "4685   2023-08-15\n",
       "4686   2023-08-16\n",
       "4687   2023-08-17\n",
       "4688   2023-08-18\n",
       "Name: Date, Length: 4689, dtype: datetime64[ns]"
      ]
     },
     "execution_count": 14,
     "metadata": {},
     "output_type": "execute_result"
    }
   ],
   "source": [
    "def str_to_datetime(s):\n",
    "    split = s.split(\"-\")\n",
    "    y, m, d = int(split[0]), int(split[1]), int(split[2])\n",
    "    return datetime.datetime(year=y,month=m,day=d)\n",
    "\n",
    "dataset[\"Date\"] = dataset[\"Date\"].apply(str_to_datetime)\n",
    "dataset[\"Date\"]"
   ]
  },
  {
   "cell_type": "code",
   "execution_count": 15,
   "id": "de7f02a6",
   "metadata": {},
   "outputs": [
    {
     "data": {
      "text/html": [
       "<div>\n",
       "<style scoped>\n",
       "    .dataframe tbody tr th:only-of-type {\n",
       "        vertical-align: middle;\n",
       "    }\n",
       "\n",
       "    .dataframe tbody tr th {\n",
       "        vertical-align: top;\n",
       "    }\n",
       "\n",
       "    .dataframe thead th {\n",
       "        text-align: right;\n",
       "    }\n",
       "</style>\n",
       "<table border=\"1\" class=\"dataframe\">\n",
       "  <thead>\n",
       "    <tr style=\"text-align: right;\">\n",
       "      <th></th>\n",
       "      <th>Adj Close</th>\n",
       "    </tr>\n",
       "    <tr>\n",
       "      <th>Date</th>\n",
       "      <th></th>\n",
       "    </tr>\n",
       "  </thead>\n",
       "  <tbody>\n",
       "    <tr>\n",
       "      <th>2005-01-03</th>\n",
       "      <td>0.959292</td>\n",
       "    </tr>\n",
       "    <tr>\n",
       "      <th>2005-01-04</th>\n",
       "      <td>0.969144</td>\n",
       "    </tr>\n",
       "    <tr>\n",
       "      <th>2005-01-05</th>\n",
       "      <td>0.977632</td>\n",
       "    </tr>\n",
       "    <tr>\n",
       "      <th>2005-01-06</th>\n",
       "      <td>0.978390</td>\n",
       "    </tr>\n",
       "    <tr>\n",
       "      <th>2005-01-07</th>\n",
       "      <td>1.049628</td>\n",
       "    </tr>\n",
       "    <tr>\n",
       "      <th>...</th>\n",
       "      <td>...</td>\n",
       "    </tr>\n",
       "    <tr>\n",
       "      <th>2023-08-14</th>\n",
       "      <td>179.460007</td>\n",
       "    </tr>\n",
       "    <tr>\n",
       "      <th>2023-08-15</th>\n",
       "      <td>177.449997</td>\n",
       "    </tr>\n",
       "    <tr>\n",
       "      <th>2023-08-16</th>\n",
       "      <td>176.570007</td>\n",
       "    </tr>\n",
       "    <tr>\n",
       "      <th>2023-08-17</th>\n",
       "      <td>174.000000</td>\n",
       "    </tr>\n",
       "    <tr>\n",
       "      <th>2023-08-18</th>\n",
       "      <td>174.490005</td>\n",
       "    </tr>\n",
       "  </tbody>\n",
       "</table>\n",
       "<p>4689 rows × 1 columns</p>\n",
       "</div>"
      ],
      "text/plain": [
       "             Adj Close\n",
       "Date                  \n",
       "2005-01-03    0.959292\n",
       "2005-01-04    0.969144\n",
       "2005-01-05    0.977632\n",
       "2005-01-06    0.978390\n",
       "2005-01-07    1.049628\n",
       "...                ...\n",
       "2023-08-14  179.460007\n",
       "2023-08-15  177.449997\n",
       "2023-08-16  176.570007\n",
       "2023-08-17  174.000000\n",
       "2023-08-18  174.490005\n",
       "\n",
       "[4689 rows x 1 columns]"
      ]
     },
     "execution_count": 15,
     "metadata": {},
     "output_type": "execute_result"
    }
   ],
   "source": [
    "dataset.set_index('Date', inplace=True)\n",
    "dataset"
   ]
  },
  {
   "cell_type": "code",
   "execution_count": 16,
   "id": "a7539069",
   "metadata": {},
   "outputs": [
    {
     "data": {
      "text/plain": [
       "[<matplotlib.lines.Line2D at 0x2144365fca0>]"
      ]
     },
     "execution_count": 16,
     "metadata": {},
     "output_type": "execute_result"
    },
    {
     "data": {
      "image/png": "[encoded data removed]",
      "text/plain": [
       "<Figure size 432x288 with 1 Axes>"
      ]
     },
     "metadata": {
      "needs_background": "light"
     },
     "output_type": "display_data"
    }
   ],
   "source": [
    "plt.plot(dataset.index, dataset[\"Adj Close\"])"
   ]
  },
  {
   "cell_type": "code",
   "execution_count": 17,
   "id": "7c50bc30",
   "metadata": {},
   "outputs": [
    {
     "data": {
      "text/html": [
       "<div>\n",
       "<style scoped>\n",
       "    .dataframe tbody tr th:only-of-type {\n",
       "        vertical-align: middle;\n",
       "    }\n",
       "\n",
       "    .dataframe tbody tr th {\n",
       "        vertical-align: top;\n",
       "    }\n",
       "\n",
       "    .dataframe thead th {\n",
       "        text-align: right;\n",
       "    }\n",
       "</style>\n",
       "<table border=\"1\" class=\"dataframe\">\n",
       "  <thead>\n",
       "    <tr style=\"text-align: right;\">\n",
       "      <th></th>\n",
       "      <th>Target-30</th>\n",
       "      <th>Target-29</th>\n",
       "      <th>Target-28</th>\n",
       "      <th>Target-27</th>\n",
       "      <th>Target-26</th>\n",
       "      <th>Target-25</th>\n",
       "      <th>Target-24</th>\n",
       "      <th>Target-23</th>\n",
       "      <th>Target-22</th>\n",
       "      <th>Target-21</th>\n",
       "      <th>...</th>\n",
       "      <th>Target-9</th>\n",
       "      <th>Target-8</th>\n",
       "      <th>Target-7</th>\n",
       "      <th>Target-6</th>\n",
       "      <th>Target-5</th>\n",
       "      <th>Target-4</th>\n",
       "      <th>Target-3</th>\n",
       "      <th>Target-2</th>\n",
       "      <th>Target-1</th>\n",
       "      <th>Target</th>\n",
       "    </tr>\n",
       "    <tr>\n",
       "      <th>Date</th>\n",
       "      <th></th>\n",
       "      <th></th>\n",
       "      <th></th>\n",
       "      <th></th>\n",
       "      <th></th>\n",
       "      <th></th>\n",
       "      <th></th>\n",
       "      <th></th>\n",
       "      <th></th>\n",
       "      <th></th>\n",
       "      <th></th>\n",
       "      <th></th>\n",
       "      <th></th>\n",
       "      <th></th>\n",
       "      <th></th>\n",
       "      <th></th>\n",
       "      <th></th>\n",
       "      <th></th>\n",
       "      <th></th>\n",
       "      <th></th>\n",
       "      <th></th>\n",
       "    </tr>\n",
       "  </thead>\n",
       "  <tbody>\n",
       "    <tr>\n",
       "      <th>2005-02-15</th>\n",
       "      <td>0.959292</td>\n",
       "      <td>0.969144</td>\n",
       "      <td>0.977632</td>\n",
       "      <td>0.978390</td>\n",
       "      <td>1.049628</td>\n",
       "      <td>1.045232</td>\n",
       "      <td>0.978541</td>\n",
       "      <td>0.992183</td>\n",
       "      <td>1.057965</td>\n",
       "      <td>1.064027</td>\n",
       "      <td>...</td>\n",
       "      <td>1.206958</td>\n",
       "      <td>1.179373</td>\n",
       "      <td>1.194984</td>\n",
       "      <td>1.196500</td>\n",
       "      <td>1.226208</td>\n",
       "      <td>1.193468</td>\n",
       "      <td>1.187709</td>\n",
       "      <td>1.230907</td>\n",
       "      <td>1.282744</td>\n",
       "      <td>1.340037</td>\n",
       "    </tr>\n",
       "    <tr>\n",
       "      <th>2005-02-16</th>\n",
       "      <td>0.969144</td>\n",
       "      <td>0.977632</td>\n",
       "      <td>0.978390</td>\n",
       "      <td>1.049628</td>\n",
       "      <td>1.045232</td>\n",
       "      <td>0.978541</td>\n",
       "      <td>0.992183</td>\n",
       "      <td>1.057965</td>\n",
       "      <td>1.064027</td>\n",
       "      <td>1.070848</td>\n",
       "      <td>...</td>\n",
       "      <td>1.179373</td>\n",
       "      <td>1.194984</td>\n",
       "      <td>1.196500</td>\n",
       "      <td>1.226208</td>\n",
       "      <td>1.193468</td>\n",
       "      <td>1.187709</td>\n",
       "      <td>1.230907</td>\n",
       "      <td>1.282744</td>\n",
       "      <td>1.340037</td>\n",
       "      <td>1.366107</td>\n",
       "    </tr>\n",
       "    <tr>\n",
       "      <th>2005-02-17</th>\n",
       "      <td>0.977632</td>\n",
       "      <td>0.978390</td>\n",
       "      <td>1.049628</td>\n",
       "      <td>1.045232</td>\n",
       "      <td>0.978541</td>\n",
       "      <td>0.992183</td>\n",
       "      <td>1.057965</td>\n",
       "      <td>1.064027</td>\n",
       "      <td>1.070848</td>\n",
       "      <td>1.059177</td>\n",
       "      <td>...</td>\n",
       "      <td>1.194984</td>\n",
       "      <td>1.196500</td>\n",
       "      <td>1.226208</td>\n",
       "      <td>1.193468</td>\n",
       "      <td>1.187709</td>\n",
       "      <td>1.230907</td>\n",
       "      <td>1.282744</td>\n",
       "      <td>1.340037</td>\n",
       "      <td>1.366107</td>\n",
       "      <td>1.330944</td>\n",
       "    </tr>\n",
       "    <tr>\n",
       "      <th>2005-02-18</th>\n",
       "      <td>0.978390</td>\n",
       "      <td>1.049628</td>\n",
       "      <td>1.045232</td>\n",
       "      <td>0.978541</td>\n",
       "      <td>0.992183</td>\n",
       "      <td>1.057965</td>\n",
       "      <td>1.064027</td>\n",
       "      <td>1.070848</td>\n",
       "      <td>1.059177</td>\n",
       "      <td>1.067967</td>\n",
       "      <td>...</td>\n",
       "      <td>1.196500</td>\n",
       "      <td>1.226208</td>\n",
       "      <td>1.193468</td>\n",
       "      <td>1.187709</td>\n",
       "      <td>1.230907</td>\n",
       "      <td>1.282744</td>\n",
       "      <td>1.340037</td>\n",
       "      <td>1.366107</td>\n",
       "      <td>1.330944</td>\n",
       "      <td>1.315787</td>\n",
       "    </tr>\n",
       "    <tr>\n",
       "      <th>2005-02-22</th>\n",
       "      <td>1.049628</td>\n",
       "      <td>1.045232</td>\n",
       "      <td>0.978541</td>\n",
       "      <td>0.992183</td>\n",
       "      <td>1.057965</td>\n",
       "      <td>1.064027</td>\n",
       "      <td>1.070848</td>\n",
       "      <td>1.059177</td>\n",
       "      <td>1.067967</td>\n",
       "      <td>1.068423</td>\n",
       "      <td>...</td>\n",
       "      <td>1.226208</td>\n",
       "      <td>1.193468</td>\n",
       "      <td>1.187709</td>\n",
       "      <td>1.230907</td>\n",
       "      <td>1.282744</td>\n",
       "      <td>1.340037</td>\n",
       "      <td>1.366107</td>\n",
       "      <td>1.330944</td>\n",
       "      <td>1.315787</td>\n",
       "      <td>1.292748</td>\n",
       "    </tr>\n",
       "    <tr>\n",
       "      <th>...</th>\n",
       "      <td>...</td>\n",
       "      <td>...</td>\n",
       "      <td>...</td>\n",
       "      <td>...</td>\n",
       "      <td>...</td>\n",
       "      <td>...</td>\n",
       "      <td>...</td>\n",
       "      <td>...</td>\n",
       "      <td>...</td>\n",
       "      <td>...</td>\n",
       "      <td>...</td>\n",
       "      <td>...</td>\n",
       "      <td>...</td>\n",
       "      <td>...</td>\n",
       "      <td>...</td>\n",
       "      <td>...</td>\n",
       "      <td>...</td>\n",
       "      <td>...</td>\n",
       "      <td>...</td>\n",
       "      <td>...</td>\n",
       "      <td>...</td>\n",
       "    </tr>\n",
       "    <tr>\n",
       "      <th>2023-08-14</th>\n",
       "      <td>193.708420</td>\n",
       "      <td>192.200470</td>\n",
       "      <td>191.071976</td>\n",
       "      <td>191.551331</td>\n",
       "      <td>190.422852</td>\n",
       "      <td>188.355652</td>\n",
       "      <td>187.826370</td>\n",
       "      <td>189.514084</td>\n",
       "      <td>190.283035</td>\n",
       "      <td>190.432846</td>\n",
       "      <td>...</td>\n",
       "      <td>195.346207</td>\n",
       "      <td>192.320297</td>\n",
       "      <td>190.912201</td>\n",
       "      <td>181.744583</td>\n",
       "      <td>178.608810</td>\n",
       "      <td>179.557526</td>\n",
       "      <td>177.949707</td>\n",
       "      <td>177.729996</td>\n",
       "      <td>177.789993</td>\n",
       "      <td>179.460007</td>\n",
       "    </tr>\n",
       "    <tr>\n",
       "      <th>2023-08-15</th>\n",
       "      <td>192.200470</td>\n",
       "      <td>191.071976</td>\n",
       "      <td>191.551331</td>\n",
       "      <td>190.422852</td>\n",
       "      <td>188.355652</td>\n",
       "      <td>187.826370</td>\n",
       "      <td>189.514084</td>\n",
       "      <td>190.283035</td>\n",
       "      <td>190.432846</td>\n",
       "      <td>193.728394</td>\n",
       "      <td>...</td>\n",
       "      <td>192.320297</td>\n",
       "      <td>190.912201</td>\n",
       "      <td>181.744583</td>\n",
       "      <td>178.608810</td>\n",
       "      <td>179.557526</td>\n",
       "      <td>177.949707</td>\n",
       "      <td>177.729996</td>\n",
       "      <td>177.789993</td>\n",
       "      <td>179.460007</td>\n",
       "      <td>177.449997</td>\n",
       "    </tr>\n",
       "    <tr>\n",
       "      <th>2023-08-16</th>\n",
       "      <td>191.071976</td>\n",
       "      <td>191.551331</td>\n",
       "      <td>190.422852</td>\n",
       "      <td>188.355652</td>\n",
       "      <td>187.826370</td>\n",
       "      <td>189.514084</td>\n",
       "      <td>190.283035</td>\n",
       "      <td>190.432846</td>\n",
       "      <td>193.728394</td>\n",
       "      <td>193.468735</td>\n",
       "      <td>...</td>\n",
       "      <td>190.912201</td>\n",
       "      <td>181.744583</td>\n",
       "      <td>178.608810</td>\n",
       "      <td>179.557526</td>\n",
       "      <td>177.949707</td>\n",
       "      <td>177.729996</td>\n",
       "      <td>177.789993</td>\n",
       "      <td>179.460007</td>\n",
       "      <td>177.449997</td>\n",
       "      <td>176.570007</td>\n",
       "    </tr>\n",
       "    <tr>\n",
       "      <th>2023-08-17</th>\n",
       "      <td>191.551331</td>\n",
       "      <td>190.422852</td>\n",
       "      <td>188.355652</td>\n",
       "      <td>187.826370</td>\n",
       "      <td>189.514084</td>\n",
       "      <td>190.283035</td>\n",
       "      <td>190.432846</td>\n",
       "      <td>193.728394</td>\n",
       "      <td>193.468735</td>\n",
       "      <td>194.836899</td>\n",
       "      <td>...</td>\n",
       "      <td>181.744583</td>\n",
       "      <td>178.608810</td>\n",
       "      <td>179.557526</td>\n",
       "      <td>177.949707</td>\n",
       "      <td>177.729996</td>\n",
       "      <td>177.789993</td>\n",
       "      <td>179.460007</td>\n",
       "      <td>177.449997</td>\n",
       "      <td>176.570007</td>\n",
       "      <td>174.000000</td>\n",
       "    </tr>\n",
       "    <tr>\n",
       "      <th>2023-08-18</th>\n",
       "      <td>190.422852</td>\n",
       "      <td>188.355652</td>\n",
       "      <td>187.826370</td>\n",
       "      <td>189.514084</td>\n",
       "      <td>190.283035</td>\n",
       "      <td>190.432846</td>\n",
       "      <td>193.728394</td>\n",
       "      <td>193.468735</td>\n",
       "      <td>194.836899</td>\n",
       "      <td>192.869553</td>\n",
       "      <td>...</td>\n",
       "      <td>178.608810</td>\n",
       "      <td>179.557526</td>\n",
       "      <td>177.949707</td>\n",
       "      <td>177.729996</td>\n",
       "      <td>177.789993</td>\n",
       "      <td>179.460007</td>\n",
       "      <td>177.449997</td>\n",
       "      <td>176.570007</td>\n",
       "      <td>174.000000</td>\n",
       "      <td>174.490005</td>\n",
       "    </tr>\n",
       "  </tbody>\n",
       "</table>\n",
       "<p>4659 rows × 31 columns</p>\n",
       "</div>"
      ],
      "text/plain": [
       "             Target-30   Target-29   Target-28   Target-27   Target-26  \\\n",
       "Date                                                                     \n",
       "2005-02-15    0.959292    0.969144    0.977632    0.978390    1.049628   \n",
       "2005-02-16    0.969144    0.977632    0.978390    1.049628    1.045232   \n",
       "2005-02-17    0.977632    0.978390    1.049628    1.045232    0.978541   \n",
       "2005-02-18    0.978390    1.049628    1.045232    0.978541    0.992183   \n",
       "2005-02-22    1.049628    1.045232    0.978541    0.992183    1.057965   \n",
       "...                ...         ...         ...         ...         ...   \n",
       "2023-08-14  193.708420  192.200470  191.071976  191.551331  190.422852   \n",
       "2023-08-15  192.200470  191.071976  191.551331  190.422852  188.355652   \n",
       "2023-08-16  191.071976  191.551331  190.422852  188.355652  187.826370   \n",
       "2023-08-17  191.551331  190.422852  188.355652  187.826370  189.514084   \n",
       "2023-08-18  190.422852  188.355652  187.826370  189.514084  190.283035   \n",
       "\n",
       "             Target-25   Target-24   Target-23   Target-22   Target-21  ...  \\\n",
       "Date                                                                    ...   \n",
       "2005-02-15    1.045232    0.978541    0.992183    1.057965    1.064027  ...   \n",
       "2005-02-16    0.978541    0.992183    1.057965    1.064027    1.070848  ...   \n",
       "2005-02-17    0.992183    1.057965    1.064027    1.070848    1.059177  ...   \n",
       "2005-02-18    1.057965    1.064027    1.070848    1.059177    1.067967  ...   \n",
       "2005-02-22    1.064027    1.070848    1.059177    1.067967    1.068423  ...   \n",
       "...                ...         ...         ...         ...         ...  ...   \n",
       "2023-08-14  188.355652  187.826370  189.514084  190.283035  190.432846  ...   \n",
       "2023-08-15  187.826370  189.514084  190.283035  190.432846  193.728394  ...   \n",
       "2023-08-16  189.514084  190.283035  190.432846  193.728394  193.468735  ...   \n",
       "2023-08-17  190.283035  190.432846  193.728394  193.468735  194.836899  ...   \n",
       "2023-08-18  190.432846  193.728394  193.468735  194.836899  192.869553  ...   \n",
       "\n",
       "              Target-9    Target-8    Target-7    Target-6    Target-5  \\\n",
       "Date                                                                     \n",
       "2005-02-15    1.206958    1.179373    1.194984    1.196500    1.226208   \n",
       "2005-02-16    1.179373    1.194984    1.196500    1.226208    1.193468   \n",
       "2005-02-17    1.194984    1.196500    1.226208    1.193468    1.187709   \n",
       "2005-02-18    1.196500    1.226208    1.193468    1.187709    1.230907   \n",
       "2005-02-22    1.226208    1.193468    1.187709    1.230907    1.282744   \n",
       "...                ...         ...         ...         ...         ...   \n",
       "2023-08-14  195.346207  192.320297  190.912201  181.744583  178.608810   \n",
       "2023-08-15  192.320297  190.912201  181.744583  178.608810  179.557526   \n",
       "2023-08-16  190.912201  181.744583  178.608810  179.557526  177.949707   \n",
       "2023-08-17  181.744583  178.608810  179.557526  177.949707  177.729996   \n",
       "2023-08-18  178.608810  179.557526  177.949707  177.729996  177.789993   \n",
       "\n",
       "              Target-4    Target-3    Target-2    Target-1      Target  \n",
       "Date                                                                    \n",
       "2005-02-15    1.193468    1.187709    1.230907    1.282744    1.340037  \n",
       "2005-02-16    1.187709    1.230907    1.282744    1.340037    1.366107  \n",
       "2005-02-17    1.230907    1.282744    1.340037    1.366107    1.330944  \n",
       "2005-02-18    1.282744    1.340037    1.366107    1.330944    1.315787  \n",
       "2005-02-22    1.340037    1.366107    1.330944    1.315787    1.292748  \n",
       "...                ...         ...         ...         ...         ...  \n",
       "2023-08-14  179.557526  177.949707  177.729996  177.789993  179.460007  \n",
       "2023-08-15  177.949707  177.729996  177.789993  179.460007  177.449997  \n",
       "2023-08-16  177.729996  177.789993  179.460007  177.449997  176.570007  \n",
       "2023-08-17  177.789993  179.460007  177.449997  176.570007  174.000000  \n",
       "2023-08-18  179.460007  177.449997  176.570007  174.000000  174.490005  \n",
       "\n",
       "[4659 rows x 31 columns]"
      ]
     },
     "execution_count": 17,
     "metadata": {},
     "output_type": "execute_result"
    }
   ],
   "source": [
    "def windows(df,n):\n",
    "    windowed_data = pd.DataFrame()\n",
    "    for i in range(n, 0, -1):\n",
    "        windowed_data[f'Target-{i}'] = df['Adj Close'].shift(i)\n",
    "    windowed_data['Target'] = df['Adj Close']\n",
    "    return windowed_data.dropna()\n",
    "new_data = windows(dataset,30)\n",
    "new_data\n",
    "\n",
    "windowed_data = pd.DataFrame()\n",
    "for i in range(30, 0, -1):\n",
    "    windowed_data[f'Target-{i}'] = dataset['Adj Close'].shift(i)\n",
    "windowed_data['Target'] = dataset['Adj Close']\n",
    "\n",
    "new data = windowed_data.dropna()\n",
    "new_data"
   ]
  },
  {
   "cell_type": "code",
   "execution_count": 18,
   "id": "060888b0",
   "metadata": {},
   "outputs": [],
   "source": [
    "arr = new_data.to_numpy()\n",
    "dates = new_data.index\n",
    "X = arr[:, 0:-1]\n",
    "X = X.reshape(len(dates), X.shape[1],1)\n",
    "X = X.astype(np.float32)\n",
    "y = arr[:,-1]\n",
    "y = y.astype(np.float32)"
   ]
  },
  {
   "cell_type": "code",
   "execution_count": 19,
   "id": "17fb4005",
   "metadata": {},
   "outputs": [
    {
     "data": {
      "text/plain": [
       "DatetimeIndex(['2005-02-15', '2005-02-16', '2005-02-17', '2005-02-18',\n",
       "               '2005-02-22', '2005-02-23', '2005-02-24', '2005-02-25',\n",
       "               '2005-02-28', '2005-03-01',\n",
       "               ...\n",
       "               '2023-08-07', '2023-08-08', '2023-08-09', '2023-08-10',\n",
       "               '2023-08-11', '2023-08-14', '2023-08-15', '2023-08-16',\n",
       "               '2023-08-17', '2023-08-18'],\n",
       "              dtype='datetime64[ns]', name='Date', length=4659, freq=None)"
      ]
     },
     "execution_count": 19,
     "metadata": {},
     "output_type": "execute_result"
    }
   ],
   "source": [
    "dates"
   ]
  },
  {
   "cell_type": "code",
   "execution_count": 20,
   "id": "7fd6b0d9",
   "metadata": {},
   "outputs": [
    {
     "data": {
      "text/plain": [
       "array([[[  0.959292],\n",
       "        [  0.969144],\n",
       "        [  0.977632],\n",
       "        ...,\n",
       "        [  1.187709],\n",
       "        [  1.230907],\n",
       "        [  1.282744]],\n",
       "\n",
       "       [[  0.969144],\n",
       "        [  0.977632],\n",
       "        [  0.97839 ],\n",
       "        ...,\n",
       "        [  1.230907],\n",
       "        [  1.282744],\n",
       "        [  1.340037]],\n",
       "\n",
       "       [[  0.977632],\n",
       "        [  0.97839 ],\n",
       "        [  1.049628],\n",
       "        ...,\n",
       "        [  1.282744],\n",
       "        [  1.340037],\n",
       "        [  1.366107]],\n",
       "\n",
       "       ...,\n",
       "\n",
       "       [[191.07198 ],\n",
       "        [191.55133 ],\n",
       "        [190.42285 ],\n",
       "        ...,\n",
       "        [177.79    ],\n",
       "        [179.46    ],\n",
       "        [177.45    ]],\n",
       "\n",
       "       [[191.55133 ],\n",
       "        [190.42285 ],\n",
       "        [188.35565 ],\n",
       "        ...,\n",
       "        [179.46    ],\n",
       "        [177.45    ],\n",
       "        [176.57    ]],\n",
       "\n",
       "       [[190.42285 ],\n",
       "        [188.35565 ],\n",
       "        [187.82637 ],\n",
       "        ...,\n",
       "        [177.45    ],\n",
       "        [176.57    ],\n",
       "        [174.      ]]], dtype=float32)"
      ]
     },
     "execution_count": 20,
     "metadata": {},
     "output_type": "execute_result"
    }
   ],
   "source": [
    "X"
   ]
  },
  {
   "cell_type": "code",
   "execution_count": 21,
   "id": "129a21a1",
   "metadata": {},
   "outputs": [
    {
     "data": {
      "text/plain": [
       "array([  1.340037,   1.366107,   1.330944, ..., 176.57    , 174.      ,\n",
       "       174.49    ], dtype=float32)"
      ]
     },
     "execution_count": 21,
     "metadata": {},
     "output_type": "execute_result"
    }
   ],
   "source": [
    "y"
   ]
  },
  {
   "cell_type": "code",
   "execution_count": 22,
   "id": "694a0420",
   "metadata": {},
   "outputs": [
    {
     "data": {
      "text/plain": [
       "((4659,), (4659, 30, 1), (4659,))"
      ]
     },
     "execution_count": 22,
     "metadata": {},
     "output_type": "execute_result"
    }
   ],
   "source": [
    "dates.shape, X.shape, y.shape"
   ]
  },
  {
   "cell_type": "code",
   "execution_count": 23,
   "id": "4b634985",
   "metadata": {},
   "outputs": [],
   "source": [
    "train_date, X_train, y_train = dates[:int(len(dates)*0.8)], X[:int(len(dates)*0.8)], y[:int(len(dates)*0.8)]\n",
    "test_date, X_test, y_test = dates[int(len(dates)*0.8):], X[int(len(dates)*0.8):], y[int(len(dates)*0.8):]"
   ]
  },
  {
   "cell_type": "code",
   "execution_count": 24,
   "id": "41edb4f4",
   "metadata": {},
   "outputs": [
    {
     "data": {
      "text/plain": [
       "((3727,), (932,), (3727, 30, 1), (3727,), (932, 30, 1), (932,))"
      ]
     },
     "execution_count": 24,
     "metadata": {},
     "output_type": "execute_result"
    }
   ],
   "source": [
    "train_date.shape, test_date.shape, X_train.shape, y_train.shape, X_test.shape, y_test.shape"
   ]
  },
  {
   "cell_type": "code",
   "execution_count": 25,
   "id": "0ed41a3c",
   "metadata": {},
   "outputs": [
    {
     "data": {
      "text/plain": [
       "<matplotlib.legend.Legend at 0x214459e26d0>"
      ]
     },
     "execution_count": 25,
     "metadata": {},
     "output_type": "execute_result"
    },
    {
     "data": {
      "image/png": "[encoded data removed]",
      "text/plain": [
       "<Figure size 432x288 with 1 Axes>"
      ]
     },
     "metadata": {
      "needs_background": "light"
     },
     "output_type": "display_data"
    }
   ],
   "source": [
    "plt.plot(train_date, y_train)\n",
    "plt.plot(test_date, y_test)\n",
    "plt.legend([\"Train\",\"Test\"])"
   ]
  },
  {
   "cell_type": "markdown",
   "id": "b684aebf",
   "metadata": {},
   "source": [
    "## Models"
   ]
  },
  {
   "cell_type": "markdown",
   "id": "f5efb701",
   "metadata": {},
   "source": [
    "### RNN"
   ]
  },
  {
   "cell_type": "code",
   "execution_count": 26,
   "id": "bb5aae72",
   "metadata": {
    "scrolled": true
   },
   "outputs": [
    {
     "name": "stdout",
     "output_type": "stream",
     "text": [
      "Epoch 1/50\n",
      "117/117 [==============================] - 1s 4ms/step - loss: 60.3360 - mean_absolute_error: 3.0211\n",
      "Epoch 2/50\n",
      "117/117 [==============================] - 0s 4ms/step - loss: 0.2307 - mean_absolute_error: 0.3118\n",
      "Epoch 3/50\n",
      "117/117 [==============================] - 0s 4ms/step - loss: 0.2267 - mean_absolute_error: 0.2973\n",
      "Epoch 4/50\n",
      "117/117 [==============================] - 0s 4ms/step - loss: 0.2377 - mean_absolute_error: 0.3017\n",
      "Epoch 5/50\n",
      "117/117 [==============================] - 0s 4ms/step - loss: 0.2242 - mean_absolute_error: 0.2897\n",
      "Epoch 6/50\n",
      "117/117 [==============================] - 0s 4ms/step - loss: 0.2252 - mean_absolute_error: 0.2856\n",
      "Epoch 7/50\n",
      "117/117 [==============================] - 0s 4ms/step - loss: 0.2310 - mean_absolute_error: 0.2887\n",
      "Epoch 8/50\n",
      "117/117 [==============================] - 0s 4ms/step - loss: 0.2230 - mean_absolute_error: 0.2918\n",
      "Epoch 9/50\n",
      "117/117 [==============================] - 0s 4ms/step - loss: 0.2305 - mean_absolute_error: 0.2912\n",
      "Epoch 10/50\n",
      "117/117 [==============================] - 1s 4ms/step - loss: 0.2146 - mean_absolute_error: 0.2754\n",
      "Epoch 11/50\n",
      "117/117 [==============================] - 0s 4ms/step - loss: 0.2128 - mean_absolute_error: 0.2777\n",
      "Epoch 12/50\n",
      "117/117 [==============================] - 0s 4ms/step - loss: 0.2072 - mean_absolute_error: 0.2741\n",
      "Epoch 13/50\n",
      "117/117 [==============================] - 0s 4ms/step - loss: 0.2101 - mean_absolute_error: 0.2768\n",
      "Epoch 14/50\n",
      "117/117 [==============================] - 0s 4ms/step - loss: 0.2087 - mean_absolute_error: 0.2731\n",
      "Epoch 15/50\n",
      "117/117 [==============================] - 0s 4ms/step - loss: 0.2230 - mean_absolute_error: 0.2831\n",
      "Epoch 16/50\n",
      "117/117 [==============================] - 0s 4ms/step - loss: 0.1914 - mean_absolute_error: 0.2589\n",
      "Epoch 17/50\n",
      "117/117 [==============================] - 0s 4ms/step - loss: 0.2034 - mean_absolute_error: 0.2672\n",
      "Epoch 18/50\n",
      "117/117 [==============================] - 0s 4ms/step - loss: 0.1892 - mean_absolute_error: 0.2614\n",
      "Epoch 19/50\n",
      "117/117 [==============================] - 0s 4ms/step - loss: 0.2210 - mean_absolute_error: 0.2850\n",
      "Epoch 20/50\n",
      "117/117 [==============================] - 0s 4ms/step - loss: 0.2075 - mean_absolute_error: 0.2674\n",
      "Epoch 21/50\n",
      "117/117 [==============================] - 0s 3ms/step - loss: 0.1839 - mean_absolute_error: 0.2524\n",
      "Epoch 22/50\n",
      "117/117 [==============================] - 0s 3ms/step - loss: 0.1827 - mean_absolute_error: 0.2533\n",
      "Epoch 23/50\n",
      "117/117 [==============================] - 0s 3ms/step - loss: 0.2422 - mean_absolute_error: 0.2948\n",
      "Epoch 24/50\n",
      "117/117 [==============================] - 0s 3ms/step - loss: 0.1751 - mean_absolute_error: 0.2455\n",
      "Epoch 25/50\n",
      "117/117 [==============================] - 0s 3ms/step - loss: 0.1857 - mean_absolute_error: 0.2540\n",
      "Epoch 26/50\n",
      "117/117 [==============================] - 0s 4ms/step - loss: 0.1917 - mean_absolute_error: 0.2616\n",
      "Epoch 27/50\n",
      "117/117 [==============================] - 0s 4ms/step - loss: 0.2077 - mean_absolute_error: 0.2667\n",
      "Epoch 28/50\n",
      "117/117 [==============================] - 0s 3ms/step - loss: 0.1908 - mean_absolute_error: 0.2602\n",
      "Epoch 29/50\n",
      "117/117 [==============================] - 0s 3ms/step - loss: 0.2031 - mean_absolute_error: 0.2691\n",
      "Epoch 30/50\n",
      "117/117 [==============================] - 0s 3ms/step - loss: 0.2780 - mean_absolute_error: 0.3169\n",
      "Epoch 31/50\n",
      "117/117 [==============================] - 0s 3ms/step - loss: 0.1663 - mean_absolute_error: 0.2404\n",
      "Epoch 32/50\n",
      "117/117 [==============================] - 0s 3ms/step - loss: 0.1993 - mean_absolute_error: 0.2660\n",
      "Epoch 33/50\n",
      "117/117 [==============================] - 0s 3ms/step - loss: 0.2772 - mean_absolute_error: 0.3177\n",
      "Epoch 34/50\n",
      "117/117 [==============================] - 0s 4ms/step - loss: 0.1871 - mean_absolute_error: 0.2550\n",
      "Epoch 35/50\n",
      "117/117 [==============================] - 0s 4ms/step - loss: 0.1768 - mean_absolute_error: 0.2500\n",
      "Epoch 36/50\n",
      "117/117 [==============================] - 0s 3ms/step - loss: 0.1704 - mean_absolute_error: 0.2421\n",
      "Epoch 37/50\n",
      "117/117 [==============================] - 0s 3ms/step - loss: 0.1766 - mean_absolute_error: 0.2478\n",
      "Epoch 38/50\n",
      "117/117 [==============================] - 0s 4ms/step - loss: 0.1676 - mean_absolute_error: 0.2428\n",
      "Epoch 39/50\n",
      "117/117 [==============================] - 0s 4ms/step - loss: 0.2274 - mean_absolute_error: 0.2846\n",
      "Epoch 40/50\n",
      "117/117 [==============================] - 0s 4ms/step - loss: 0.2365 - mean_absolute_error: 0.2981\n",
      "Epoch 41/50\n",
      "117/117 [==============================] - 0s 3ms/step - loss: 0.2722 - mean_absolute_error: 0.3195\n",
      "Epoch 42/50\n",
      "117/117 [==============================] - 0s 3ms/step - loss: 0.1676 - mean_absolute_error: 0.2413\n",
      "Epoch 43/50\n",
      "117/117 [==============================] - 0s 4ms/step - loss: 0.1704 - mean_absolute_error: 0.2413\n",
      "Epoch 44/50\n",
      "117/117 [==============================] - 0s 3ms/step - loss: 0.1730 - mean_absolute_error: 0.2454\n",
      "Epoch 45/50\n",
      "117/117 [==============================] - 0s 3ms/step - loss: 0.1633 - mean_absolute_error: 0.2388\n",
      "Epoch 46/50\n",
      "117/117 [==============================] - 0s 4ms/step - loss: 0.2128 - mean_absolute_error: 0.2768\n",
      "Epoch 47/50\n",
      "117/117 [==============================] - 0s 4ms/step - loss: 0.1889 - mean_absolute_error: 0.2580\n",
      "Epoch 48/50\n",
      "117/117 [==============================] - 0s 4ms/step - loss: 0.1814 - mean_absolute_error: 0.2532\n",
      "Epoch 49/50\n",
      "117/117 [==============================] - 0s 4ms/step - loss: 0.1748 - mean_absolute_error: 0.2439\n",
      "Epoch 50/50\n",
      "117/117 [==============================] - 0s 4ms/step - loss: 0.1616 - mean_absolute_error: 0.2336\n"
     ]
    },
    {
     "data": {
      "text/plain": [
       "<keras.callbacks.History at 0x21445fe9a30>"
      ]
     },
     "execution_count": 26,
     "metadata": {},
     "output_type": "execute_result"
    }
   ],
   "source": [
    "from tensorflow.keras.models import Sequential\n",
    "from tensorflow.keras.optimizers import Adam\n",
    "from tensorflow.keras import layers\n",
    "\n",
    "model = Sequential([\n",
    "    layers.Input((30, 1)),\n",
    "    layers.SimpleRNN(64, activation='relu'),\n",
    "    layers.Dense(32, activation=\"relu\"),\n",
    "    layers.Dense(32, activation=\"relu\"),\n",
    "    layers.Dense(1)\n",
    "])\n",
    "\n",
    "model.compile(\n",
    "    loss=\"mse\",\n",
    "    optimizer=Adam(learning_rate=0.001),\n",
    "    metrics=[\"mean_absolute_error\"]\n",
    ")\n",
    "\n",
    "model.fit(X_train, y_train, epochs=50)"
   ]
  },
  {
   "cell_type": "code",
   "execution_count": 27,
   "id": "e0afd52e",
   "metadata": {},
   "outputs": [
    {
     "name": "stdout",
     "output_type": "stream",
     "text": [
      "117/117 [==============================] - 0s 2ms/step\n"
     ]
    },
    {
     "data": {
      "text/plain": [
       "Text(0.5, 1.0, 'Train results')"
      ]
     },
     "execution_count": 27,
     "metadata": {},
     "output_type": "execute_result"
    },
    {
     "data": {
      "image/png": "[encoded data removed]",
      "text/plain": [
       "<Figure size 432x288 with 1 Axes>"
      ]
     },
     "metadata": {
      "needs_background": "light"
     },
     "output_type": "display_data"
    }
   ],
   "source": [
    "predict_train = model.predict(X_train).flatten()\n",
    "\n",
    "plt.plot(train_date, predict_train)\n",
    "plt.plot(train_date, y_train)\n",
    "plt.legend([\"Predicted\", \"Actual\"])\n",
    "plt.title(\"Train results\")"
   ]
  },
  {
   "cell_type": "code",
   "execution_count": 28,
   "id": "38fa34b8",
   "metadata": {},
   "outputs": [
    {
     "name": "stdout",
     "output_type": "stream",
     "text": [
      "30/30 [==============================] - 0s 2ms/step\n"
     ]
    },
    {
     "data": {
      "text/plain": [
       "Text(0.5, 1.0, 'Test results')"
      ]
     },
     "execution_count": 28,
     "metadata": {},
     "output_type": "execute_result"
    },
    {
     "data": {
      "image/png": "[encoded data removed]",
      "text/plain": [
       "<Figure size 432x288 with 1 Axes>"
      ]
     },
     "metadata": {
      "needs_background": "light"
     },
     "output_type": "display_data"
    }
   ],
   "source": [
    "predict_test = model.predict(X_test).flatten()\n",
    "\n",
    "plt.plot(test_date, predict_test)\n",
    "plt.plot(test_date, y_test)\n",
    "plt.legend([\"Predicted\", \"Actual\"])\n",
    "plt.title(\"Test results\")"
   ]
  },
  {
   "cell_type": "markdown",
   "id": "f19c4e2e",
   "metadata": {},
   "source": [
    "### LSTM"
   ]
  },
  {
   "cell_type": "code",
   "execution_count": 29,
   "id": "b5ebf989",
   "metadata": {
    "scrolled": true
   },
   "outputs": [
    {
     "name": "stdout",
     "output_type": "stream",
     "text": [
      "Epoch 1/50\n",
      "117/117 [==============================] - 3s 9ms/step - loss: 33.2933 - mean_absolute_error: 1.8440\n",
      "Epoch 2/50\n",
      "117/117 [==============================] - 1s 9ms/step - loss: 0.6245 - mean_absolute_error: 0.5235\n",
      "Epoch 3/50\n",
      "117/117 [==============================] - 1s 9ms/step - loss: 0.5234 - mean_absolute_error: 0.4785\n",
      "Epoch 4/50\n",
      "117/117 [==============================] - 1s 9ms/step - loss: 2.3907 - mean_absolute_error: 0.9558\n",
      "Epoch 5/50\n",
      "117/117 [==============================] - 1s 9ms/step - loss: 0.2847 - mean_absolute_error: 0.3499\n",
      "Epoch 6/50\n",
      "117/117 [==============================] - 1s 9ms/step - loss: 0.2984 - mean_absolute_error: 0.3532\n",
      "Epoch 7/50\n",
      "117/117 [==============================] - 1s 9ms/step - loss: 0.2601 - mean_absolute_error: 0.3390\n",
      "Epoch 8/50\n",
      "117/117 [==============================] - 1s 9ms/step - loss: 0.4819 - mean_absolute_error: 0.4585\n",
      "Epoch 9/50\n",
      "117/117 [==============================] - 1s 9ms/step - loss: 0.4998 - mean_absolute_error: 0.4773\n",
      "Epoch 10/50\n",
      "117/117 [==============================] - 1s 9ms/step - loss: 0.5683 - mean_absolute_error: 0.4619\n",
      "Epoch 11/50\n",
      "117/117 [==============================] - 1s 9ms/step - loss: 0.3928 - mean_absolute_error: 0.4135\n",
      "Epoch 12/50\n",
      "117/117 [==============================] - 1s 9ms/step - loss: 0.3132 - mean_absolute_error: 0.3542\n",
      "Epoch 13/50\n",
      "117/117 [==============================] - 1s 9ms/step - loss: 0.4140 - mean_absolute_error: 0.4235\n",
      "Epoch 14/50\n",
      "117/117 [==============================] - 1s 9ms/step - loss: 0.6828 - mean_absolute_error: 0.5592\n",
      "Epoch 15/50\n",
      "117/117 [==============================] - 1s 9ms/step - loss: 0.3732 - mean_absolute_error: 0.3918\n",
      "Epoch 16/50\n",
      "117/117 [==============================] - 1s 9ms/step - loss: 0.4971 - mean_absolute_error: 0.4614\n",
      "Epoch 17/50\n",
      "117/117 [==============================] - 1s 9ms/step - loss: 0.2822 - mean_absolute_error: 0.3402\n",
      "Epoch 18/50\n",
      "117/117 [==============================] - 1s 9ms/step - loss: 0.3413 - mean_absolute_error: 0.3646\n",
      "Epoch 19/50\n",
      "117/117 [==============================] - 1s 9ms/step - loss: 0.6588 - mean_absolute_error: 0.5199\n",
      "Epoch 20/50\n",
      "117/117 [==============================] - 1s 9ms/step - loss: 0.3750 - mean_absolute_error: 0.3965\n",
      "Epoch 21/50\n",
      "117/117 [==============================] - 1s 9ms/step - loss: 0.2665 - mean_absolute_error: 0.3392\n",
      "Epoch 22/50\n",
      "117/117 [==============================] - 1s 9ms/step - loss: 0.3596 - mean_absolute_error: 0.3751\n",
      "Epoch 23/50\n",
      "117/117 [==============================] - 1s 9ms/step - loss: 0.4042 - mean_absolute_error: 0.4185\n",
      "Epoch 24/50\n",
      "117/117 [==============================] - 1s 9ms/step - loss: 0.3344 - mean_absolute_error: 0.3764\n",
      "Epoch 25/50\n",
      "117/117 [==============================] - 1s 9ms/step - loss: 0.3346 - mean_absolute_error: 0.3793\n",
      "Epoch 26/50\n",
      "117/117 [==============================] - 1s 9ms/step - loss: 0.5087 - mean_absolute_error: 0.4611\n",
      "Epoch 27/50\n",
      "117/117 [==============================] - 1s 9ms/step - loss: 0.3387 - mean_absolute_error: 0.3615\n",
      "Epoch 28/50\n",
      "117/117 [==============================] - 1s 9ms/step - loss: 0.3275 - mean_absolute_error: 0.3563\n",
      "Epoch 29/50\n",
      "117/117 [==============================] - 1s 9ms/step - loss: 0.4133 - mean_absolute_error: 0.4163\n",
      "Epoch 30/50\n",
      "117/117 [==============================] - 1s 9ms/step - loss: 0.3197 - mean_absolute_error: 0.3548\n",
      "Epoch 31/50\n",
      "117/117 [==============================] - 1s 9ms/step - loss: 0.5138 - mean_absolute_error: 0.4597\n",
      "Epoch 32/50\n",
      "117/117 [==============================] - 1s 9ms/step - loss: 0.2725 - mean_absolute_error: 0.3309\n",
      "Epoch 33/50\n",
      "117/117 [==============================] - 1s 9ms/step - loss: 0.4250 - mean_absolute_error: 0.3963\n",
      "Epoch 34/50\n",
      "117/117 [==============================] - 1s 9ms/step - loss: 0.3640 - mean_absolute_error: 0.3789\n",
      "Epoch 35/50\n",
      "117/117 [==============================] - 1s 9ms/step - loss: 0.2573 - mean_absolute_error: 0.3235\n",
      "Epoch 36/50\n",
      "117/117 [==============================] - 1s 9ms/step - loss: 0.7462 - mean_absolute_error: 0.5504\n",
      "Epoch 37/50\n",
      "117/117 [==============================] - 1s 10ms/step - loss: 0.3826 - mean_absolute_error: 0.3957\n",
      "Epoch 38/50\n",
      "117/117 [==============================] - 1s 10ms/step - loss: 0.3023 - mean_absolute_error: 0.3446\n",
      "Epoch 39/50\n",
      "117/117 [==============================] - 1s 10ms/step - loss: 0.4413 - mean_absolute_error: 0.4273\n",
      "Epoch 40/50\n",
      "117/117 [==============================] - 1s 9ms/step - loss: 0.3143 - mean_absolute_error: 0.3528\n",
      "Epoch 41/50\n",
      "117/117 [==============================] - 1s 9ms/step - loss: 0.2951 - mean_absolute_error: 0.3449\n",
      "Epoch 42/50\n",
      "117/117 [==============================] - 1s 9ms/step - loss: 0.2266 - mean_absolute_error: 0.2930\n",
      "Epoch 43/50\n",
      "117/117 [==============================] - 1s 10ms/step - loss: 0.2240 - mean_absolute_error: 0.2919\n",
      "Epoch 44/50\n",
      "117/117 [==============================] - 1s 9ms/step - loss: 0.2413 - mean_absolute_error: 0.2988\n",
      "Epoch 45/50\n",
      "117/117 [==============================] - 1s 10ms/step - loss: 0.2593 - mean_absolute_error: 0.3258\n",
      "Epoch 46/50\n",
      "117/117 [==============================] - 1s 10ms/step - loss: 0.2503 - mean_absolute_error: 0.3166\n",
      "Epoch 47/50\n",
      "117/117 [==============================] - 1s 11ms/step - loss: 0.2130 - mean_absolute_error: 0.2877\n",
      "Epoch 48/50\n",
      "117/117 [==============================] - 1s 9ms/step - loss: 0.3429 - mean_absolute_error: 0.3702\n",
      "Epoch 49/50\n",
      "117/117 [==============================] - 1s 10ms/step - loss: 0.4350 - mean_absolute_error: 0.4159\n",
      "Epoch 50/50\n",
      "117/117 [==============================] - 1s 9ms/step - loss: 0.3440 - mean_absolute_error: 0.3773\n"
     ]
    },
    {
     "data": {
      "text/plain": [
       "<keras.callbacks.History at 0x2144f4e8220>"
      ]
     },
     "execution_count": 29,
     "metadata": {},
     "output_type": "execute_result"
    }
   ],
   "source": [
    "from tensorflow.keras.models import Sequential\n",
    "from tensorflow.keras.optimizers import Adam\n",
    "from tensorflow.keras import layers\n",
    "\n",
    "model = Sequential([layers.Input((30, 1)),\n",
    "                    layers.LSTM(64),\n",
    "                    layers.Dense(32, activation=\"relu\"),\n",
    "                    layers.Dense(32, activation=\"relu\"),\n",
    "                    layers.Dense(1)])\n",
    "model.compile(loss=\"mse\",\n",
    "              optimizer=Adam(learning_rate=0.01),\n",
    "              metrics=[\"mean_absolute_error\"])\n",
    "model.fit(X_train, y_train, epochs=50)"
   ]
  },
  {
   "cell_type": "code",
   "execution_count": 30,
   "id": "e6be4b73",
   "metadata": {},
   "outputs": [
    {
     "name": "stdout",
     "output_type": "stream",
     "text": [
      "117/117 [==============================] - 1s 4ms/step\n"
     ]
    },
    {
     "data": {
      "text/plain": [
       "Text(0.5, 1.0, 'Train results')"
      ]
     },
     "execution_count": 30,
     "metadata": {},
     "output_type": "execute_result"
    },
    {
     "data": {
      "image/png": "[encoded data removed]",
      "text/plain": [
       "<Figure size 432x288 with 1 Axes>"
      ]
     },
     "metadata": {
      "needs_background": "light"
     },
     "output_type": "display_data"
    }
   ],
   "source": [
    "predict_train = model.predict(X_train).flatten()\n",
    "\n",
    "plt.plot(train_date, predict_train)\n",
    "plt.plot(train_date, y_train)\n",
    "plt.legend([\"Predicted\", \"Actual\"])\n",
    "plt.title(\"Train results\")"
   ]
  },
  {
   "cell_type": "code",
   "execution_count": 31,
   "id": "01360348",
   "metadata": {},
   "outputs": [
    {
     "name": "stdout",
     "output_type": "stream",
     "text": [
      "30/30 [==============================] - 0s 4ms/step\n"
     ]
    },
    {
     "data": {
      "text/plain": [
       "Text(0.5, 1.0, 'Test results')"
      ]
     },
     "execution_count": 31,
     "metadata": {},
     "output_type": "execute_result"
    },
    {
     "data": {
      "image/png": "[encoded data removed]",
      "text/plain": [
       "<Figure size 432x288 with 1 Axes>"
      ]
     },
     "metadata": {
      "needs_background": "light"
     },
     "output_type": "display_data"
    }
   ],
   "source": [
    "predict_test = model.predict(X_test).flatten()\n",
    "\n",
    "plt.plot(test_date, predict_test)\n",
    "plt.plot(test_date, y_test)\n",
    "plt.legend([\"Predicted\", \"Actual\"])\n",
    "plt.title(\"Test results\")"
   ]
  },
  {
   "cell_type": "markdown",
   "id": "21688cee",
   "metadata": {},
   "source": [
    "### GRU"
   ]
  },
  {
   "cell_type": "code",
   "execution_count": 32,
   "id": "d215c15f",
   "metadata": {},
   "outputs": [
    {
     "name": "stdout",
     "output_type": "stream",
     "text": [
      "Epoch 1/50\n",
      "117/117 [==============================] - 3s 9ms/step - loss: 206.7612 - mean_absolute_error: 7.9494\n",
      "Epoch 2/50\n",
      "117/117 [==============================] - 1s 9ms/step - loss: 1.6138 - mean_absolute_error: 0.4300\n",
      "Epoch 3/50\n",
      "117/117 [==============================] - 1s 9ms/step - loss: 0.4602 - mean_absolute_error: 0.3201\n",
      "Epoch 4/50\n",
      "117/117 [==============================] - 1s 9ms/step - loss: 0.2644 - mean_absolute_error: 0.3012\n",
      "Epoch 5/50\n",
      "117/117 [==============================] - 1s 9ms/step - loss: 0.2045 - mean_absolute_error: 0.2779\n",
      "Epoch 6/50\n",
      "117/117 [==============================] - 1s 9ms/step - loss: 0.1886 - mean_absolute_error: 0.2722\n",
      "Epoch 7/50\n",
      "117/117 [==============================] - 1s 9ms/step - loss: 0.1851 - mean_absolute_error: 0.2661\n",
      "Epoch 8/50\n",
      "117/117 [==============================] - 1s 9ms/step - loss: 0.1982 - mean_absolute_error: 0.2856\n",
      "Epoch 9/50\n",
      "117/117 [==============================] - 1s 9ms/step - loss: 0.1987 - mean_absolute_error: 0.2803\n",
      "Epoch 10/50\n",
      "117/117 [==============================] - 1s 9ms/step - loss: 0.1804 - mean_absolute_error: 0.2643\n",
      "Epoch 11/50\n",
      "117/117 [==============================] - 1s 9ms/step - loss: 0.1928 - mean_absolute_error: 0.2818\n",
      "Epoch 12/50\n",
      "117/117 [==============================] - 1s 9ms/step - loss: 0.1893 - mean_absolute_error: 0.2666\n",
      "Epoch 13/50\n",
      "117/117 [==============================] - 1s 9ms/step - loss: 0.1699 - mean_absolute_error: 0.2517\n",
      "Epoch 14/50\n",
      "117/117 [==============================] - 1s 9ms/step - loss: 0.1690 - mean_absolute_error: 0.2508\n",
      "Epoch 15/50\n",
      "117/117 [==============================] - 1s 9ms/step - loss: 0.1965 - mean_absolute_error: 0.2806\n",
      "Epoch 16/50\n",
      "117/117 [==============================] - 1s 9ms/step - loss: 0.2031 - mean_absolute_error: 0.2830\n",
      "Epoch 17/50\n",
      "117/117 [==============================] - 1s 9ms/step - loss: 0.1682 - mean_absolute_error: 0.2553\n",
      "Epoch 18/50\n",
      "117/117 [==============================] - 1s 10ms/step - loss: 0.1710 - mean_absolute_error: 0.2558\n",
      "Epoch 19/50\n",
      "117/117 [==============================] - 1s 9ms/step - loss: 0.1723 - mean_absolute_error: 0.2507\n",
      "Epoch 20/50\n",
      "117/117 [==============================] - 1s 9ms/step - loss: 0.1917 - mean_absolute_error: 0.2741\n",
      "Epoch 21/50\n",
      "117/117 [==============================] - 1s 9ms/step - loss: 0.1722 - mean_absolute_error: 0.2516\n",
      "Epoch 22/50\n",
      "117/117 [==============================] - 1s 9ms/step - loss: 0.1734 - mean_absolute_error: 0.2561\n",
      "Epoch 23/50\n",
      "117/117 [==============================] - 1s 9ms/step - loss: 0.1712 - mean_absolute_error: 0.2531\n",
      "Epoch 24/50\n",
      "117/117 [==============================] - 1s 9ms/step - loss: 0.1850 - mean_absolute_error: 0.2682\n",
      "Epoch 25/50\n",
      "117/117 [==============================] - 1s 9ms/step - loss: 0.1655 - mean_absolute_error: 0.2483\n",
      "Epoch 26/50\n",
      "117/117 [==============================] - 1s 9ms/step - loss: 0.1693 - mean_absolute_error: 0.2478\n",
      "Epoch 27/50\n",
      "117/117 [==============================] - 1s 9ms/step - loss: 0.1675 - mean_absolute_error: 0.2491\n",
      "Epoch 28/50\n",
      "117/117 [==============================] - 1s 9ms/step - loss: 0.1694 - mean_absolute_error: 0.2531\n",
      "Epoch 29/50\n",
      "117/117 [==============================] - 1s 9ms/step - loss: 0.1980 - mean_absolute_error: 0.2853\n",
      "Epoch 30/50\n",
      "117/117 [==============================] - 1s 9ms/step - loss: 0.1649 - mean_absolute_error: 0.2419\n",
      "Epoch 31/50\n",
      "117/117 [==============================] - 1s 9ms/step - loss: 0.1814 - mean_absolute_error: 0.2624\n",
      "Epoch 32/50\n",
      "117/117 [==============================] - 1s 10ms/step - loss: 0.1900 - mean_absolute_error: 0.2701\n",
      "Epoch 33/50\n",
      "117/117 [==============================] - 1s 9ms/step - loss: 0.2217 - mean_absolute_error: 0.2932\n",
      "Epoch 34/50\n",
      "117/117 [==============================] - 1s 9ms/step - loss: 0.1790 - mean_absolute_error: 0.2576\n",
      "Epoch 35/50\n",
      "117/117 [==============================] - 1s 9ms/step - loss: 0.1725 - mean_absolute_error: 0.2548\n",
      "Epoch 36/50\n",
      "117/117 [==============================] - 1s 10ms/step - loss: 0.1641 - mean_absolute_error: 0.2428\n",
      "Epoch 37/50\n",
      "117/117 [==============================] - 1s 10ms/step - loss: 0.1704 - mean_absolute_error: 0.2497\n",
      "Epoch 38/50\n",
      "117/117 [==============================] - 1s 9ms/step - loss: 0.1590 - mean_absolute_error: 0.2380\n",
      "Epoch 39/50\n",
      "117/117 [==============================] - 1s 9ms/step - loss: 0.1567 - mean_absolute_error: 0.2367\n",
      "Epoch 40/50\n",
      "117/117 [==============================] - 1s 9ms/step - loss: 0.1666 - mean_absolute_error: 0.2472\n",
      "Epoch 41/50\n",
      "117/117 [==============================] - 1s 9ms/step - loss: 0.1891 - mean_absolute_error: 0.2729\n",
      "Epoch 42/50\n",
      "117/117 [==============================] - 1s 9ms/step - loss: 0.1741 - mean_absolute_error: 0.2516\n",
      "Epoch 43/50\n",
      "117/117 [==============================] - 1s 9ms/step - loss: 0.1591 - mean_absolute_error: 0.2412\n",
      "Epoch 44/50\n",
      "117/117 [==============================] - 1s 9ms/step - loss: 0.1759 - mean_absolute_error: 0.2558\n",
      "Epoch 45/50\n",
      "117/117 [==============================] - 1s 9ms/step - loss: 0.2243 - mean_absolute_error: 0.2988\n",
      "Epoch 46/50\n",
      "117/117 [==============================] - 1s 9ms/step - loss: 0.1608 - mean_absolute_error: 0.2444\n",
      "Epoch 47/50\n",
      "117/117 [==============================] - 1s 9ms/step - loss: 0.1648 - mean_absolute_error: 0.2478\n",
      "Epoch 48/50\n",
      "117/117 [==============================] - 1s 10ms/step - loss: 0.1775 - mean_absolute_error: 0.2575\n",
      "Epoch 49/50\n",
      "117/117 [==============================] - 1s 10ms/step - loss: 0.1738 - mean_absolute_error: 0.2549\n",
      "Epoch 50/50\n",
      "117/117 [==============================] - 1s 9ms/step - loss: 0.1811 - mean_absolute_error: 0.2597\n"
     ]
    },
    {
     "data": {
      "text/plain": [
       "<keras.callbacks.History at 0x2145298aeb0>"
      ]
     },
     "execution_count": 32,
     "metadata": {},
     "output_type": "execute_result"
    }
   ],
   "source": [
    "from tensorflow.keras.models import Sequential\n",
    "from tensorflow.keras.optimizers import Adam\n",
    "from tensorflow.keras import layers\n",
    "\n",
    "model = Sequential([layers.Input((30, 1)),\n",
    "                    layers.GRU(64),\n",
    "                    layers.Dense(32, activation=\"relu\"),\n",
    "                    layers.Dense(32, activation=\"relu\"),\n",
    "                    layers.Dense(1)])\n",
    "model.compile(loss=\"mse\",\n",
    "              optimizer=Adam(learning_rate=0.001),\n",
    "              metrics=[\"mean_absolute_error\"])\n",
    "model.fit(X_train, y_train, epochs=50)"
   ]
  },
  {
   "cell_type": "code",
   "execution_count": 33,
   "id": "e66473dd",
   "metadata": {},
   "outputs": [
    {
     "name": "stdout",
     "output_type": "stream",
     "text": [
      "117/117 [==============================] - 1s 3ms/step\n"
     ]
    },
    {
     "data": {
      "text/plain": [
       "Text(0.5, 1.0, 'Train results')"
      ]
     },
     "execution_count": 33,
     "metadata": {},
     "output_type": "execute_result"
    },
    {
     "data": {
      "image/png": "[encoded data removed]",
      "text/plain": [
       "<Figure size 432x288 with 1 Axes>"
      ]
     },
     "metadata": {
      "needs_background": "light"
     },
     "output_type": "display_data"
    }
   ],
   "source": [
    "predict_train = model.predict(X_train).flatten()\n",
    "\n",
    "plt.plot(train_date, predict_train)\n",
    "plt.plot(train_date, y_train)\n",
    "plt.legend([\"Predicted\", \"Actual\"])\n",
    "plt.title(\"Train results\")"
   ]
  },
  {
   "cell_type": "code",
   "execution_count": 34,
   "id": "966ee312",
   "metadata": {},
   "outputs": [
    {
     "name": "stdout",
     "output_type": "stream",
     "text": [
      "30/30 [==============================] - 0s 3ms/step\n"
     ]
    },
    {
     "data": {
      "text/plain": [
       "Text(0.5, 1.0, 'Test results')"
      ]
     },
     "execution_count": 34,
     "metadata": {},
     "output_type": "execute_result"
    },
    {
     "data": {
      "image/png": "[encoded data removed]",
      "text/plain": [
       "<Figure size 432x288 with 1 Axes>"
      ]
     },
     "metadata": {
      "needs_background": "light"
     },
     "output_type": "display_data"
    }
   ],
   "source": [
    "predict_test = model.predict(X_test).flatten()\n",
    "\n",
    "plt.plot(test_date, predict_test)\n",
    "plt.plot(test_date, y_test)\n",
    "plt.legend([\"Predicted\", \"Actual\"])\n",
    "plt.title(\"Test results\")"
   ]
  },
  {
   "cell_type": "markdown",
   "id": "6535f4e7",
   "metadata": {},
   "source": [
    "## Strategies"
   ]
  },
  {
   "cell_type": "code",
   "execution_count": null,
   "id": "0b37827d",
   "metadata": {},
   "outputs": [],
   "source": []
  }
 ],
 "metadata": {
  "kernelspec": {
   "display_name": "Python 3 (ipykernel)",
   "language": "python",
   "name": "python3"
  },
  "language_info": {
   "codemirror_mode": {
    "name": "ipython",
    "version": 3
   },
   "file_extension": ".py",
   "mimetype": "text/x-python",
   "name": "python",
   "nbconvert_exporter": "python",
   "pygments_lexer": "ipython3",
   "version": "3.9.1"
  }
 },
 "nbformat": 4,
 "nbformat_minor": 5
}
